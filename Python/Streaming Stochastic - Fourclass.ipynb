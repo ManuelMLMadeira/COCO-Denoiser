{
 "cells": [
  {
   "cell_type": "code",
   "execution_count": 1,
   "metadata": {},
   "outputs": [],
   "source": [
    "import numpy as np\n",
    "from scipy.linalg import norm\n",
    "import matplotlib.pyplot as plt\n",
    "from scipy.optimize import line_search\n",
    "from scipy.optimize import minimize\n",
    "%matplotlib inline\n",
    "from sklearn.datasets import load_svmlight_file\n",
    "from scipy.sparse import csr_matrix\n",
    "def get_data(dataname):\n",
    "    data = load_svmlight_file(dataname)\n",
    "    return data[0], data[1]\n",
    "from logistic_linear import *\n",
    "import random\n",
    "import math"
   ]
  },
  {
   "cell_type": "markdown",
   "metadata": {},
   "source": [
    "<a id='loss'></a>\n",
    "## 1. Loss functions, gradients and step-sizes\n",
    "\n",
    "\n",
    "We want to minimize\n",
    "$$\n",
    "\\frac 1n \\sum_{i=1}^n \\ell(a_i^\\top x, b_i) + \\frac \\lambda 2 \\|x\\|_2^2\n",
    "$$\n",
    "where\n",
    "- $\\ell(z, b) = \\log(1 + \\exp(-bz))$ (logistic regression).\n",
    "\n",
    "We write it as a minimization problem of the form\n",
    "$$\n",
    "\\frac 1n \\sum_{i=1}^n f_i(x)\n",
    "$$\n",
    "where\n",
    "$$\n",
    "f_i(x) = \\ell(a_i^\\top x, b_i) + \\frac \\lambda 2 \\|x\\|_2^2.\n",
    "$$\n",
    "\n",
    "The gradients\n",
    "$$\n",
    "\\nabla f_i(x) = - \\frac{b_i}{1 + \\exp(b_i a_i^\\top x)} a_i + \\lambda x.\n",
    "$$\n",
    "\n",
    "Denote by $L$ (resp. $L_i$) the Lipschitz constant of $f$ (resp. $f_i$) and $\\mathbf A^\\top = [a_1, \\ldots, a_n].$\n",
    "One can easily see (using $\\|\\cdot\\|_{2}$ for the matrix spectrale norm) that \n",
    "$$\n",
    "L = \\frac{ \\|\\mathbf A^\\top \\mathbf A \\|_{2}}{4 n} + \\lambda \\quad \\text{ and } L_i = \\frac 14 \\| a_i \\|_2^2 + \\lambda.\n",
    "$$\n",
    "For full-gradient methods, the theoretical step-size is $1 / L$, while for SAG and SVRG (see below) it can be taken as\n",
    "$1 / (\\max_{i=1,\\ldots,n} L_i)$"
   ]
  },
  {
   "cell_type": "markdown",
   "metadata": {},
   "source": [
    "<a id='data'></a>\n",
    "## 2. Generate a dataset\n",
    "\n",
    "We generate datasets for the least-squares and the logistic cases. First we define a function for the least-squares case.\n",
    "\n"
   ]
  },
  {
   "cell_type": "code",
   "execution_count": 2,
   "metadata": {},
   "outputs": [
    {
     "name": "stdout",
     "output_type": "stream",
     "text": [
      "Size of the Dataset (n, d) =  862 2\n",
      "\\lambda = 0\n",
      "\\mu = 1.366797401392408e-30\n",
      "L = 5656.074264619304\n"
     ]
    },
    {
     "data": {
      "text/plain": [
       "[<matplotlib.lines.Line2D at 0x1170b4470>]"
      ]
     },
     "execution_count": 2,
     "metadata": {},
     "output_type": "execute_result"
    },
    {
     "data": {
      "image/png": "[encoded data removed]",
      "text/plain": [
       "<Figure size 432x288 with 1 Axes>"
      ]
     },
     "metadata": {
      "needs_background": "light"
     },
     "output_type": "display_data"
    }
   ],
   "source": [
    "# Logistic Regression\n",
    "loss = loss_logreg\n",
    "grad = grad_logreg\n",
    "grad_i = grad_i_logreg\n",
    "lipschitz_constant = lipschitz_logreg\n",
    "mu_constant = mu_constant_logreg\n",
    "\n",
    "dataname = \"fourclass\"  \n",
    "A, b = get_data(dataname)\n",
    "n, d = A.shape;\n",
    "A = A.toarray()\n",
    "print(\"Size of the Dataset (n, d) = \", n, d)\n",
    "\n",
    "# Setup\n",
    "n_iter = 45\n",
    "x_0 = 1*np.ones(d)\n",
    "lbda = 0 #1 #1.00001 / n ** (0.5)\n",
    "store_every = n\n",
    "\n",
    "# Initialization\n",
    "mu = mu_constant(A, b, lbda)\n",
    "L = lipschitz_constant(A, b, lbda)\n",
    "print(\"\\lambda = %s\" % lbda)\n",
    "print(\"\\mu = %s\" % mu )\n",
    "print(\"L = %s\" % L )\n",
    "\n",
    "### Get a very precise minimum to compute distances to minimum\n",
    "\n",
    "from scipy.optimize import check_grad\n",
    "check_grad(loss, grad, np.random.randn(d), A, b, lbda)\n",
    "from scipy.optimize import fmin_l_bfgs_b\n",
    "\n",
    "x_init = np.zeros(d)\n",
    "x_min, f_min, _ = fmin_l_bfgs_b(loss, x_init, grad,\n",
    "                                args=(A, b, lbda), pgtol=1e-30, factr=1e-30)\n",
    "\n",
    "gradient_memory = np.zeros((n, d))\n",
    "g_norm = np.zeros(n)\n",
    "for j in range(n):\n",
    "    gradient_memory[j] = grad_i(j, x_min, A, b ,lbda)\n",
    "    g_norm[j] = norm(gradient_memory[j])\n",
    "    \n",
    "plt.plot(g_norm)"
   ]
  },
  {
   "cell_type": "markdown",
   "metadata": {},
   "source": [
    "# SGD"
   ]
  },
  {
   "cell_type": "code",
   "execution_count": 3,
   "metadata": {},
   "outputs": [
    {
     "name": "stdout",
     "output_type": "stream",
     "text": [
      "dimension: 2\n",
      "SGD step-size = 0.00017680107318522053\n",
      "25\n",
      "50\n",
      "75\n",
      "100\n"
     ]
    }
   ],
   "source": [
    "from stochastic_methods import str_sgd\n",
    "np.random.seed(0)\n",
    "max_squared_sum = np.max(np.sum(A ** 2, axis=1))\n",
    "L_i_max = 0.25 * max_squared_sum + lbda\n",
    "\n",
    "n_reps = 100\n",
    "x_init = x_0.copy()\n",
    "step_size = 1 * 1/(L)  #1/L_i_max  #1.0 / (10*max_squared_sum + lbda)\n",
    "store_every = 1\n",
    "n_steps = 800\n",
    "\n",
    "print('dimension:', d)\n",
    "print(\"SGD step-size = %s\" % step_size)\n",
    "visited_distances_str_sgd = np.zeros((n_reps, n_steps+1)) \n",
    "for rep in range(n_reps):\n",
    "    rep_x_final, rep_visited_points = str_sgd(n, x_init, grad_i, store_every, step_size, n_steps,  args=(A, b, lbda))\n",
    "    rep_visited_distances = [ np.linalg.norm(visited_point - x_min) for visited_point in rep_visited_points]\n",
    "    visited_distances_str_sgd[rep, :] = rep_visited_distances\n",
    "    if (rep+1) % 25 == 0:\n",
    "        print(rep+1)"
   ]
  },
  {
   "cell_type": "code",
   "execution_count": 4,
   "metadata": {},
   "outputs": [
    {
     "name": "stdout",
     "output_type": "stream",
     "text": [
      "SGD step-size = 0.00017680107318522053\n",
      "25\n",
      "50\n",
      "75\n",
      "100\n"
     ]
    }
   ],
   "source": [
    "from stochastic_methods import str_sgd_COCO\n",
    "np.random.seed(0)\n",
    "\n",
    "K = 2\n",
    "L = L\n",
    "tol= 10**(0) \n",
    "\n",
    "print(\"SGD step-size = %s\" % step_size)\n",
    "visited_distances_str_sgd_COCO2 = np.zeros((n_reps, n_steps+1)) \n",
    "for rep in range(n_reps):\n",
    "    rep_x_final, rep_visited_points = str_sgd_COCO(n, K, L, tol, x_init, grad_i, store_every, step_size, n_steps,  args=(A, b, lbda))\n",
    "    rep_visited_distances = [ np.linalg.norm(visited_point - x_min) for visited_point in rep_visited_points]\n",
    "    visited_distances_str_sgd_COCO2[rep, :] = rep_visited_distances\n",
    "    if (rep+1) % 25 == 0:\n",
    "        print(rep+1)"
   ]
  },
  {
   "cell_type": "code",
   "execution_count": 5,
   "metadata": {},
   "outputs": [
    {
     "name": "stdout",
     "output_type": "stream",
     "text": [
      "SGD step-size = 0.00017680107318522053\n",
      "25\n"
     ]
    },
    {
     "ename": "KeyboardInterrupt",
     "evalue": "",
     "output_type": "error",
     "traceback": [
      "\u001b[0;31m---------------------------------------------------------------------------\u001b[0m",
      "\u001b[0;31mKeyboardInterrupt\u001b[0m                         Traceback (most recent call last)",
      "\u001b[0;32m<ipython-input-5-fbc4d72432b2>\u001b[0m in \u001b[0;36m<module>\u001b[0;34m\u001b[0m\n\u001b[1;32m      9\u001b[0m \u001b[0mvisited_distances_str_sgd_COCO4\u001b[0m \u001b[0;34m=\u001b[0m \u001b[0mnp\u001b[0m\u001b[0;34m.\u001b[0m\u001b[0mzeros\u001b[0m\u001b[0;34m(\u001b[0m\u001b[0;34m(\u001b[0m\u001b[0mn_reps\u001b[0m\u001b[0;34m,\u001b[0m \u001b[0mn_steps\u001b[0m\u001b[0;34m+\u001b[0m\u001b[0;36m1\u001b[0m\u001b[0;34m)\u001b[0m\u001b[0;34m)\u001b[0m\u001b[0;34m\u001b[0m\u001b[0m\n\u001b[1;32m     10\u001b[0m \u001b[0;32mfor\u001b[0m \u001b[0mrep\u001b[0m \u001b[0;32min\u001b[0m \u001b[0mrange\u001b[0m\u001b[0;34m(\u001b[0m\u001b[0mn_reps\u001b[0m\u001b[0;34m)\u001b[0m\u001b[0;34m:\u001b[0m\u001b[0;34m\u001b[0m\u001b[0m\n\u001b[0;32m---> 11\u001b[0;31m     \u001b[0mrep_x_final\u001b[0m\u001b[0;34m,\u001b[0m \u001b[0mrep_visited_points\u001b[0m \u001b[0;34m=\u001b[0m \u001b[0mstr_sgd_COCO\u001b[0m\u001b[0;34m(\u001b[0m\u001b[0mn\u001b[0m\u001b[0;34m,\u001b[0m \u001b[0mK\u001b[0m\u001b[0;34m,\u001b[0m \u001b[0mL\u001b[0m\u001b[0;34m,\u001b[0m \u001b[0mtol\u001b[0m\u001b[0;34m,\u001b[0m \u001b[0mx_init\u001b[0m\u001b[0;34m,\u001b[0m \u001b[0mgrad_i\u001b[0m\u001b[0;34m,\u001b[0m \u001b[0mstore_every\u001b[0m\u001b[0;34m,\u001b[0m \u001b[0mstep_size\u001b[0m\u001b[0;34m,\u001b[0m \u001b[0mn_steps\u001b[0m\u001b[0;34m,\u001b[0m  \u001b[0margs\u001b[0m\u001b[0;34m=\u001b[0m\u001b[0;34m(\u001b[0m\u001b[0mA\u001b[0m\u001b[0;34m,\u001b[0m \u001b[0mb\u001b[0m\u001b[0;34m,\u001b[0m \u001b[0mlbda\u001b[0m\u001b[0;34m)\u001b[0m\u001b[0;34m)\u001b[0m\u001b[0;34m\u001b[0m\u001b[0m\n\u001b[0m\u001b[1;32m     12\u001b[0m     \u001b[0mrep_visited_distances\u001b[0m \u001b[0;34m=\u001b[0m \u001b[0;34m[\u001b[0m \u001b[0mnp\u001b[0m\u001b[0;34m.\u001b[0m\u001b[0mlinalg\u001b[0m\u001b[0;34m.\u001b[0m\u001b[0mnorm\u001b[0m\u001b[0;34m(\u001b[0m\u001b[0mvisited_point\u001b[0m \u001b[0;34m-\u001b[0m \u001b[0mx_min\u001b[0m\u001b[0;34m)\u001b[0m \u001b[0;32mfor\u001b[0m \u001b[0mvisited_point\u001b[0m \u001b[0;32min\u001b[0m \u001b[0mrep_visited_points\u001b[0m\u001b[0;34m]\u001b[0m\u001b[0;34m\u001b[0m\u001b[0m\n\u001b[1;32m     13\u001b[0m     \u001b[0mvisited_distances_str_sgd_COCO4\u001b[0m\u001b[0;34m[\u001b[0m\u001b[0mrep\u001b[0m\u001b[0;34m,\u001b[0m \u001b[0;34m:\u001b[0m\u001b[0;34m]\u001b[0m \u001b[0;34m=\u001b[0m \u001b[0mrep_visited_distances\u001b[0m\u001b[0;34m\u001b[0m\u001b[0m\n",
      "\u001b[0;32m~/Documents/Técnico/Post-Grad/NeurIPS2021/SupplementaryMaterial/Code/Python/stochastic_methods.py\u001b[0m in \u001b[0;36mstr_sgd_COCO\u001b[0;34m(n, K, L, tol, x_init, grad_i, store_every, step_size, n_steps, args)\u001b[0m\n\u001b[1;32m    128\u001b[0m             \u001b[0mdenoised_gradients\u001b[0m \u001b[0;34m=\u001b[0m \u001b[0mCOCOdenoiser\u001b[0m\u001b[0;34m(\u001b[0m\u001b[0mn_considered_points\u001b[0m\u001b[0;34m,\u001b[0m \u001b[0md\u001b[0m\u001b[0;34m,\u001b[0m \u001b[0mL\u001b[0m\u001b[0;34m,\u001b[0m \u001b[0mtol\u001b[0m\u001b[0;34m,\u001b[0m \u001b[0mconsidered_gradients\u001b[0m\u001b[0;34m,\u001b[0m \u001b[0mconsidered_points\u001b[0m\u001b[0;34m)\u001b[0m\u001b[0;34m\u001b[0m\u001b[0m\n\u001b[1;32m    129\u001b[0m         \u001b[0;32melse\u001b[0m\u001b[0;34m:\u001b[0m\u001b[0;34m\u001b[0m\u001b[0m\n\u001b[0;32m--> 130\u001b[0;31m             \u001b[0mdenoised_gradients\u001b[0m\u001b[0;34m,\u001b[0m \u001b[0mprev_dual\u001b[0m \u001b[0;34m=\u001b[0m \u001b[0mCOCOdenoiser\u001b[0m\u001b[0;34m(\u001b[0m\u001b[0mn_considered_points\u001b[0m\u001b[0;34m,\u001b[0m \u001b[0md\u001b[0m\u001b[0;34m,\u001b[0m \u001b[0mL\u001b[0m\u001b[0;34m,\u001b[0m \u001b[0mtol\u001b[0m\u001b[0;34m,\u001b[0m \u001b[0mconsidered_gradients\u001b[0m\u001b[0;34m,\u001b[0m \u001b[0mconsidered_points\u001b[0m\u001b[0;34m,\u001b[0m \u001b[0mA\u001b[0m \u001b[0;34m=\u001b[0m \u001b[0mA\u001b[0m\u001b[0;34m,\u001b[0m \u001b[0mL_A\u001b[0m \u001b[0;34m=\u001b[0m \u001b[0mL_A\u001b[0m\u001b[0;34m,\u001b[0m \u001b[0mprev_dual\u001b[0m \u001b[0;34m=\u001b[0m \u001b[0mprev_dual\u001b[0m\u001b[0;34m)\u001b[0m\u001b[0;34m\u001b[0m\u001b[0m\n\u001b[0m\u001b[1;32m    131\u001b[0m         \u001b[0mdenoised_grad\u001b[0m \u001b[0;34m=\u001b[0m \u001b[0mdenoised_gradients\u001b[0m\u001b[0;34m[\u001b[0m\u001b[0;34m:\u001b[0m\u001b[0;34m,\u001b[0m \u001b[0mn_considered_points\u001b[0m\u001b[0;34m-\u001b[0m\u001b[0;36m1\u001b[0m\u001b[0;34m]\u001b[0m\u001b[0;34m\u001b[0m\u001b[0m\n\u001b[1;32m    132\u001b[0m         \u001b[0;31m# End Denoise\u001b[0m\u001b[0;34m\u001b[0m\u001b[0;34m\u001b[0m\u001b[0m\n",
      "\u001b[0;32m~/Documents/Técnico/Post-Grad/NeurIPS2021/SupplementaryMaterial/Code/Python/stochastic_methods.py\u001b[0m in \u001b[0;36mCOCOdenoiser\u001b[0;34m(K, d, L, tol, G, X, A, L_A, prev_dual)\u001b[0m\n\u001b[1;32m    314\u001b[0m \u001b[0;34m\u001b[0m\u001b[0m\n\u001b[1;32m    315\u001b[0m         \u001b[0;31m#Solve Dual Problem with Fista\u001b[0m\u001b[0;34m\u001b[0m\u001b[0;34m\u001b[0m\u001b[0m\n\u001b[0;32m--> 316\u001b[0;31m         \u001b[0ms_star\u001b[0m \u001b[0;34m=\u001b[0m \u001b[0mFDPG\u001b[0m\u001b[0;34m(\u001b[0m\u001b[0mK\u001b[0m\u001b[0;34m,\u001b[0m \u001b[0md\u001b[0m\u001b[0;34m,\u001b[0m \u001b[0mA\u001b[0m\u001b[0;34m,\u001b[0m \u001b[0mc\u001b[0m\u001b[0;34m,\u001b[0m \u001b[0mr\u001b[0m\u001b[0;34m,\u001b[0m \u001b[0ms0\u001b[0m\u001b[0;34m,\u001b[0m \u001b[0mL_A\u001b[0m\u001b[0;34m,\u001b[0m \u001b[0mtol\u001b[0m\u001b[0;34m)\u001b[0m\u001b[0;34m\u001b[0m\u001b[0m\n\u001b[0m\u001b[1;32m    317\u001b[0m         \u001b[0malpha_star\u001b[0m \u001b[0;34m=\u001b[0m \u001b[0;34m-\u001b[0m \u001b[0mnp\u001b[0m\u001b[0;34m.\u001b[0m\u001b[0mdot\u001b[0m\u001b[0;34m(\u001b[0m\u001b[0mA\u001b[0m\u001b[0;34m.\u001b[0m\u001b[0mT\u001b[0m\u001b[0;34m,\u001b[0m \u001b[0ms_star\u001b[0m\u001b[0;34m)\u001b[0m\u001b[0;34m\u001b[0m\u001b[0m\n\u001b[1;32m    318\u001b[0m \u001b[0;34m\u001b[0m\u001b[0m\n",
      "\u001b[0;32m~/Documents/Técnico/Post-Grad/NeurIPS2021/SupplementaryMaterial/Code/Python/stochastic_methods.py\u001b[0m in \u001b[0;36mFDPG\u001b[0;34m(K, d, A, c, r, s0, L_A, tol)\u001b[0m\n\u001b[1;32m    344\u001b[0m                 \u001b[0mrkl\u001b[0m \u001b[0;34m=\u001b[0m \u001b[0mr\u001b[0m\u001b[0;34m[\u001b[0m\u001b[0mnb\u001b[0m\u001b[0;34m,\u001b[0m \u001b[0;36m0\u001b[0m\u001b[0;34m]\u001b[0m\u001b[0;34m\u001b[0m\u001b[0m\n\u001b[1;32m    345\u001b[0m                 \u001b[0;32mif\u001b[0m \u001b[0mLA\u001b[0m\u001b[0;34m.\u001b[0m\u001b[0mnorm\u001b[0m\u001b[0;34m(\u001b[0m\u001b[0mpkl\u001b[0m\u001b[0;34m)\u001b[0m \u001b[0;34m>\u001b[0m \u001b[0mrkl\u001b[0m\u001b[0;34m:\u001b[0m\u001b[0;34m\u001b[0m\u001b[0m\n\u001b[0;32m--> 346\u001b[0;31m                     \u001b[0mp\u001b[0m\u001b[0;34m[\u001b[0m\u001b[0mpkl1\u001b[0m\u001b[0;34m:\u001b[0m\u001b[0mpkl2\u001b[0m\u001b[0;34m,\u001b[0m \u001b[0;36m0\u001b[0m\u001b[0;34m]\u001b[0m \u001b[0;34m=\u001b[0m \u001b[0mrkl\u001b[0m \u001b[0;34m*\u001b[0m \u001b[0mpkl\u001b[0m\u001b[0;34m/\u001b[0m\u001b[0mLA\u001b[0m\u001b[0;34m.\u001b[0m\u001b[0mnorm\u001b[0m\u001b[0;34m(\u001b[0m\u001b[0mpkl\u001b[0m\u001b[0;34m)\u001b[0m\u001b[0;34m\u001b[0m\u001b[0m\n\u001b[0m\u001b[1;32m    347\u001b[0m \u001b[0;34m\u001b[0m\u001b[0m\n\u001b[1;32m    348\u001b[0m         \u001b[0ms_new\u001b[0m \u001b[0;34m=\u001b[0m \u001b[0;34m(\u001b[0m\u001b[0mc\u001b[0m\u001b[0;34m/\u001b[0m\u001b[0mL_A\u001b[0m\u001b[0;34m)\u001b[0m \u001b[0;34m+\u001b[0m \u001b[0mp0\u001b[0m \u001b[0;34m-\u001b[0m\u001b[0mp\u001b[0m\u001b[0;34m/\u001b[0m\u001b[0mL_A\u001b[0m\u001b[0;34m\u001b[0m\u001b[0m\n",
      "\u001b[0;32m<__array_function__ internals>\u001b[0m in \u001b[0;36mnorm\u001b[0;34m(*args, **kwargs)\u001b[0m\n",
      "\u001b[0;32m~/.virtualenvs/venv/lib/python3.6/site-packages/numpy/linalg/linalg.py\u001b[0m in \u001b[0;36mnorm\u001b[0;34m(x, ord, axis, keepdims)\u001b[0m\n\u001b[1;32m   2528\u001b[0m                 \u001b[0msqnorm\u001b[0m \u001b[0;34m=\u001b[0m \u001b[0mdot\u001b[0m\u001b[0;34m(\u001b[0m\u001b[0mx\u001b[0m\u001b[0;34m.\u001b[0m\u001b[0mreal\u001b[0m\u001b[0;34m,\u001b[0m \u001b[0mx\u001b[0m\u001b[0;34m.\u001b[0m\u001b[0mreal\u001b[0m\u001b[0;34m)\u001b[0m \u001b[0;34m+\u001b[0m \u001b[0mdot\u001b[0m\u001b[0;34m(\u001b[0m\u001b[0mx\u001b[0m\u001b[0;34m.\u001b[0m\u001b[0mimag\u001b[0m\u001b[0;34m,\u001b[0m \u001b[0mx\u001b[0m\u001b[0;34m.\u001b[0m\u001b[0mimag\u001b[0m\u001b[0;34m)\u001b[0m\u001b[0;34m\u001b[0m\u001b[0m\n\u001b[1;32m   2529\u001b[0m             \u001b[0;32melse\u001b[0m\u001b[0;34m:\u001b[0m\u001b[0;34m\u001b[0m\u001b[0m\n\u001b[0;32m-> 2530\u001b[0;31m                 \u001b[0msqnorm\u001b[0m \u001b[0;34m=\u001b[0m \u001b[0mdot\u001b[0m\u001b[0;34m(\u001b[0m\u001b[0mx\u001b[0m\u001b[0;34m,\u001b[0m \u001b[0mx\u001b[0m\u001b[0;34m)\u001b[0m\u001b[0;34m\u001b[0m\u001b[0m\n\u001b[0m\u001b[1;32m   2531\u001b[0m             \u001b[0mret\u001b[0m \u001b[0;34m=\u001b[0m \u001b[0msqrt\u001b[0m\u001b[0;34m(\u001b[0m\u001b[0msqnorm\u001b[0m\u001b[0;34m)\u001b[0m\u001b[0;34m\u001b[0m\u001b[0m\n\u001b[1;32m   2532\u001b[0m             \u001b[0;32mif\u001b[0m \u001b[0mkeepdims\u001b[0m\u001b[0;34m:\u001b[0m\u001b[0;34m\u001b[0m\u001b[0m\n",
      "\u001b[0;32m<__array_function__ internals>\u001b[0m in \u001b[0;36mdot\u001b[0;34m(*args, **kwargs)\u001b[0m\n",
      "\u001b[0;32m~/.virtualenvs/venv/lib/python3.6/site-packages/numpy/core/multiarray.py\u001b[0m in \u001b[0;36mdot\u001b[0;34m(a, b, out)\u001b[0m\n\u001b[1;32m    789\u001b[0m \u001b[0;34m\u001b[0m\u001b[0m\n\u001b[1;32m    790\u001b[0m     \"\"\"\n\u001b[0;32m--> 791\u001b[0;31m     \u001b[0;32mreturn\u001b[0m \u001b[0;34m(\u001b[0m\u001b[0ma\u001b[0m\u001b[0;34m,\u001b[0m \u001b[0mb\u001b[0m\u001b[0;34m,\u001b[0m \u001b[0mout\u001b[0m\u001b[0;34m)\u001b[0m\u001b[0;34m\u001b[0m\u001b[0m\n\u001b[0m\u001b[1;32m    792\u001b[0m \u001b[0;34m\u001b[0m\u001b[0m\n\u001b[1;32m    793\u001b[0m \u001b[0;34m\u001b[0m\u001b[0m\n",
      "\u001b[0;31mKeyboardInterrupt\u001b[0m: "
     ]
    }
   ],
   "source": [
    "from stochastic_methods import str_sgd_COCO\n",
    "np.random.seed(0)\n",
    "\n",
    "K = 4\n",
    "L = L\n",
    "tol= 10**(0)\n",
    "\n",
    "print(\"SGD step-size = %s\" % step_size)\n",
    "visited_distances_str_sgd_COCO4 = np.zeros((n_reps, n_steps+1)) \n",
    "for rep in range(n_reps):\n",
    "    rep_x_final, rep_visited_points = str_sgd_COCO(n, K, L, tol, x_init, grad_i, store_every, step_size, n_steps,  args=(A, b, lbda))\n",
    "    rep_visited_distances = [ np.linalg.norm(visited_point - x_min) for visited_point in rep_visited_points]\n",
    "    visited_distances_str_sgd_COCO4[rep, :] = rep_visited_distances\n",
    "    if (rep+1) % 25 == 0:\n",
    "        print(rep+1)\n",
    "\n",
    "print(visited_distances_str_sgd_COCO4)"
   ]
  },
  {
   "cell_type": "code",
   "execution_count": 6,
   "metadata": {},
   "outputs": [
    {
     "name": "stdout",
     "output_type": "stream",
     "text": [
      "SGD step-size = 0.00017680107318522053\n",
      "25\n",
      "50\n",
      "75\n",
      "100\n"
     ]
    }
   ],
   "source": [
    "from stochastic_methods import str_sgd_COCO\n",
    "np.random.seed(0)\n",
    "\n",
    "K = 8\n",
    "L = L\n",
    "tol= 10**(0) \n",
    "\n",
    "print(\"SGD step-size = %s\" % step_size)\n",
    "visited_distances_str_sgd_COCO8 = np.zeros((n_reps, n_steps+1)) \n",
    "for rep in range(n_reps):\n",
    "    rep_x_final, rep_visited_points = str_sgd_COCO(n, K, L, tol, x_init, grad_i, store_every, step_size, n_steps,  args=(A, b, lbda))\n",
    "    rep_visited_distances = [ np.linalg.norm(visited_point - x_min) for visited_point in rep_visited_points]\n",
    "    visited_distances_str_sgd_COCO8[rep, :] = rep_visited_distances\n",
    "    if (rep+1) % 25 == 0:\n",
    "        print(rep+1)"
   ]
  },
  {
   "cell_type": "code",
   "execution_count": null,
   "metadata": {},
   "outputs": [
    {
     "name": "stdout",
     "output_type": "stream",
     "text": [
      "SGD step-size = 0.00017680107318522053\n"
     ]
    }
   ],
   "source": [
    "from stochastic_methods import str_sgd_COCO\n",
    "np.random.seed(0)\n",
    "\n",
    "K = 16\n",
    "L = L\n",
    "tol= 10**(0) \n",
    "\n",
    "print(\"SGD step-size = %s\" % step_size)\n",
    "visited_distances_str_sgd_COCO16 = np.zeros((n_reps, n_steps+1)) \n",
    "for rep in range(n_reps):\n",
    "    rep_x_final, rep_visited_points = str_sgd_COCO(n, K, L, tol, x_init, grad_i, store_every, step_size, n_steps,  args=(A, b, lbda))\n",
    "    rep_visited_distances = [ np.linalg.norm(visited_point - x_min) for visited_point in rep_visited_points]\n",
    "    visited_distances_str_sgd_COCO16[rep, :] = rep_visited_distances\n",
    "    if (rep+1) % 25 == 0:\n",
    "        print(rep+1)"
   ]
  },
  {
   "cell_type": "code",
   "execution_count": null,
   "metadata": {},
   "outputs": [],
   "source": [
    "def plot_epochs(visited_distances_mtxs, solvers):\n",
    "    \n",
    "    fig, ax = plt.subplots(figsize=(20, 12))\n",
    "    linestyles = ['-', '--', '--', '-.', ':', '--', '-']\n",
    "    ls = 0\n",
    "    x = np.arange(n_steps+1)\n",
    "    for mtx in visited_distances_mtxs:\n",
    "        mean = np.mean(mtx, axis=0)\n",
    "        std = np.std(mtx, axis=0)/math.sqrt(n_reps)\n",
    "        \n",
    "        ax.errorbar(x, mean, xerr=0, yerr=std, linestyle=linestyles[ls])\n",
    "        ax.set_yscale('log')\n",
    "        plt.xlabel(\"Oracle Consultations\", fontsize=40)\n",
    "        plt.ylabel(\"$E[\\|x_k - x^*\\|_2]$ \", fontsize=40)\n",
    "        ls +=1\n",
    "             \n",
    "    plt.xticks(fontsize=40)\n",
    "    plt.yticks(fontsize=40)\n",
    "    plt.legend(solvers, fontsize=40)\n",
    "    plt.xlim([0, 800])\n",
    "    plt.ylim([5*10**(-3), 2])\n",
    "    plt.savefig('fourclass_SGD.pdf', bbox_inches='tight')\n",
    "\n",
    "monitors = [visited_distances_str_sgd, visited_distances_str_sgd_COCO2, visited_distances_str_sgd_COCO4, visited_distances_str_sgd_COCO8]\n",
    "solvers = [\"SGD\",\"SGD$+$COCO$_2$\", \"SGD$+$COCO$_4$\", \"SGD$+$COCO$_8$\", \"SGD$+$COCO$_{16}$\"]\n",
    "plot_epochs(monitors, solvers)"
   ]
  },
  {
   "cell_type": "markdown",
   "metadata": {},
   "source": [
    "# Adam"
   ]
  },
  {
   "cell_type": "code",
   "execution_count": null,
   "metadata": {},
   "outputs": [],
   "source": [
    "from stochastic_methods import str_adam\n",
    "np.random.seed(0)\n",
    "max_squared_sum = np.max(np.sum(A ** 2, axis=1))\n",
    "L_i_max = 0.25 * max_squared_sum + lbda\n",
    "\n",
    "n_reps = 100\n",
    "x_init = x_0.copy()\n",
    "step_size = 1/L * 80\n",
    "store_every = 1\n",
    "n_steps = 800\n",
    "beta1 = 0.9\n",
    "beta2 = 0.999\n",
    "epsilon = 10**(-8)\n",
    "\n",
    "print('dimension:', d)\n",
    "print(\"SGD step-size = %s\" % step_size)\n",
    "visited_distances_str_adam = np.zeros((n_reps, n_steps+1)) \n",
    "for rep in range(n_reps):\n",
    "    rep_x_final, rep_visited_points = str_adam(x_init, grad_i, store_every, step_size, n_steps, beta1, beta2, epsilon, args=(A, b, lbda))\n",
    "    rep_visited_distances = [ np.linalg.norm(visited_point - x_min) for visited_point in rep_visited_points]\n",
    "    visited_distances_str_adam[rep, :] = rep_visited_distances\n",
    "    if (rep+1) % 25 == 0:\n",
    "        print(rep+1)"
   ]
  },
  {
   "cell_type": "code",
   "execution_count": null,
   "metadata": {},
   "outputs": [],
   "source": [
    "from stochastic_methods import str_adam_COCO\n",
    "np.random.seed(0)\n",
    "\n",
    "K = 2\n",
    "L = L\n",
    "tol= 10**(1) \n",
    "\n",
    "print(\"SGD step-size = %s\" % step_size)\n",
    "visited_distances_str_adam_COCO2 = np.zeros((n_reps, n_steps+1)) \n",
    "for rep in range(n_reps):\n",
    "    rep_x_final, rep_visited_points = str_adam_COCO(n, K, L, tol, x_init, grad_i, store_every, step_size, n_steps, beta1, beta2, epsilon, args=(A, b, lbda))\n",
    "    rep_visited_distances = [ np.linalg.norm(visited_point - x_min) for visited_point in rep_visited_points]\n",
    "    visited_distances_str_adam_COCO2[rep, :] = rep_visited_distances\n",
    "    if (rep+1) % 25 == 0:\n",
    "        print(rep+1)"
   ]
  },
  {
   "cell_type": "code",
   "execution_count": null,
   "metadata": {},
   "outputs": [],
   "source": [
    "from stochastic_methods import str_adam_COCO\n",
    "np.random.seed(0)\n",
    "\n",
    "K = 4\n",
    "L = L\n",
    "tol= 10**(1) \n",
    "\n",
    "print(\"SGD step-size = %s\" % step_size)\n",
    "visited_distances_str_adam_COCO4 = np.zeros((n_reps, n_steps+1)) \n",
    "for rep in range(n_reps):\n",
    "    rep_x_final, rep_visited_points = str_adam_COCO(n, K, L, tol, x_init, grad_i, store_every, step_size, n_steps, beta1, beta2, epsilon, args=(A, b, lbda))\n",
    "    rep_visited_distances = [ np.linalg.norm(visited_point - x_min) for visited_point in rep_visited_points]\n",
    "    visited_distances_str_adam_COCO4[rep, :] = rep_visited_distances\n",
    "    if (rep+1) % 25 == 0:\n",
    "        print(rep+1)"
   ]
  },
  {
   "cell_type": "code",
   "execution_count": null,
   "metadata": {},
   "outputs": [],
   "source": [
    "from stochastic_methods import str_adam_COCO\n",
    "np.random.seed(0)\n",
    "\n",
    "K = 8\n",
    "L = L\n",
    "tol= 10**(1) \n",
    "\n",
    "print(\"SGD step-size = %s\" % step_size)\n",
    "visited_distances_str_adam_COCO8 = np.zeros((n_reps, n_steps+1)) \n",
    "for rep in range(n_reps):\n",
    "    rep_x_final, rep_visited_points = str_adam_COCO(n, K, L, tol, x_init, grad_i, store_every, step_size, n_steps, beta1, beta2, epsilon, args=(A, b, lbda))\n",
    "    rep_visited_distances = [ np.linalg.norm(visited_point - x_min) for visited_point in rep_visited_points]\n",
    "    visited_distances_str_adam_COCO8[rep, :] = rep_visited_distances\n",
    "    if (rep+1) % 25 == 0:\n",
    "        print(rep+1)"
   ]
  },
  {
   "cell_type": "code",
   "execution_count": null,
   "metadata": {},
   "outputs": [],
   "source": [
    "from stochastic_methods import str_adam_COCO\n",
    "np.random.seed(0)\n",
    "\n",
    "K = 16\n",
    "L = L\n",
    "tol= 10**(1) \n",
    "\n",
    "print(\"SGD step-size = %s\" % step_size)\n",
    "visited_distances_str_adam_COCO16 = np.zeros((n_reps, n_steps+1)) \n",
    "for rep in range(n_reps):\n",
    "    rep_x_final, rep_visited_points = str_adam_COCO(n, K, L, tol, x_init, grad_i, store_every, step_size, n_steps, beta1, beta2, epsilon, args=(A, b, lbda))\n",
    "    rep_visited_distances = [ np.linalg.norm(visited_point - x_min) for visited_point in rep_visited_points]\n",
    "    visited_distances_str_adam_COCO16[rep, :] = rep_visited_distances\n",
    "    if (rep+1) % 5 == 0:\n",
    "        print(rep+1)"
   ]
  },
  {
   "cell_type": "code",
   "execution_count": null,
   "metadata": {},
   "outputs": [],
   "source": [
    "def plot_epochs(visited_distances_mtxs, solvers):\n",
    "    \n",
    "    fig, ax = plt.subplots(figsize=(20, 12))\n",
    "    linestyles = ['-', '--', '--', '-.', ':', '--', '-']\n",
    "    ls = 0\n",
    "    x = np.arange(n_steps+1)\n",
    "    for mtx in visited_distances_mtxs:\n",
    "        mean = np.mean(mtx, axis=0)\n",
    "        std = np.std(mtx, axis=0)/math.sqrt(n_reps)\n",
    "        \n",
    "        ax.errorbar(x, mean, xerr=0, yerr=std, linestyle=linestyles[ls])\n",
    "        ax.set_yscale('log')\n",
    "        plt.xlabel(\"Oracle Consultations\", fontsize=40)\n",
    "        plt.ylabel(\"$E[\\|x_k - x^*\\|_2]$ \", fontsize=40)\n",
    "        ls +=1\n",
    "        \n",
    "    plt.xticks(fontsize=40)\n",
    "    plt.yticks(fontsize=40)\n",
    "    plt.legend(solvers, fontsize=40)\n",
    "    plt.xlim([0, 800])\n",
    "    plt.savefig('fourclass_adam.pdf', bbox_inches='tight')\n",
    "\n",
    "monitors = [visited_distances_str_adam, visited_distances_str_adam_COCO2, visited_distances_str_adam_COCO4, visited_distances_str_adam_COCO8, visited_distances_str_adam_COCO16]\n",
    "solvers = [\"Adam\",\"Adam$+$COCO$_2$\", \"Adam$+$COCO$_4$\", \"Adam$+$COCO$_8$\", \"Adam$+$COCO$_{16}$\"]\n",
    "plot_epochs(monitors, solvers)"
   ]
  },
  {
   "cell_type": "markdown",
   "metadata": {},
   "source": [
    "# strSAGA"
   ]
  },
  {
   "cell_type": "code",
   "execution_count": null,
   "metadata": {},
   "outputs": [],
   "source": [
    "from stochastic_methods import str_saga\n",
    "np.random.seed(0)\n",
    "max_squared_sum = np.max(np.sum(A ** 2, axis=1))\n",
    "L_i_max = 0.25 * max_squared_sum + lbda\n",
    "\n",
    "n_reps = 100\n",
    "x_init = x_0.copy()\n",
    "step_size = 1 * 1/(L) \n",
    "store_every = 1\n",
    "n_steps = 800\n",
    "rho = 1\n",
    "n = n\n",
    "\n",
    "print('dimension:', d)\n",
    "print(\"SAGA step-size = %s\" % step_size)\n",
    "visited_distances_str_saga = np.zeros((n_reps, n_steps+1))\n",
    "for rep in range(n_reps):\n",
    "    rep_x_final, rep_visited_points = str_saga(rho, n, x_init, grad_i, store_every, step_size, n_steps,  args=(A, b, lbda))\n",
    "    rep_visited_distances = [ np.linalg.norm(visited_point - x_min) for visited_point in rep_visited_points]\n",
    "    visited_distances_str_saga[rep, :] = rep_visited_distances\n",
    "    if (rep+1) % 25 == 0:\n",
    "        print(rep+1)"
   ]
  },
  {
   "cell_type": "code",
   "execution_count": null,
   "metadata": {},
   "outputs": [],
   "source": [
    "from stochastic_methods import str_saga_COCO\n",
    "np.random.seed(0)\n",
    "\n",
    "K = 2\n",
    "L = L\n",
    "tol= 10**(1) \n",
    "\n",
    "print(\"SGD step-size = %s\" % step_size)\n",
    "visited_distances_str_saga_COCO2 = np.zeros((n_reps, n_steps+1)) \n",
    "for rep in range(n_reps):\n",
    "    rep_x_final, rep_visited_points = str_saga_COCO(K, L, tol, rho, n, x_init,  grad_i, store_every, step_size, n_steps, args=(A, b, lbda))\n",
    "    rep_visited_distances = [ np.linalg.norm(visited_point - x_min) for visited_point in rep_visited_points]\n",
    "    visited_distances_str_saga_COCO2[rep, :] = rep_visited_distances\n",
    "    if (rep+1) % 25 == 0:\n",
    "        print(rep+1)"
   ]
  },
  {
   "cell_type": "code",
   "execution_count": null,
   "metadata": {},
   "outputs": [],
   "source": [
    "from stochastic_methods import str_saga_COCO\n",
    "np.random.seed(0)\n",
    "\n",
    "K = 4\n",
    "L = L\n",
    "tol= 10**(1) \n",
    "\n",
    "print(\"SGD step-size = %s\" % step_size)\n",
    "visited_distances_str_saga_COCO4 = np.zeros((n_reps, n_steps+1)) \n",
    "for rep in range(n_reps):\n",
    "    rep_x_final, rep_visited_points = str_saga_COCO( K, L, tol, rho, n, x_init,  grad_i, store_every, step_size, n_steps, args=(A, b, lbda))\n",
    "    rep_visited_distances = [ np.linalg.norm(visited_point - x_min) for visited_point in rep_visited_points]\n",
    "    visited_distances_str_saga_COCO4[rep, :] = rep_visited_distances\n",
    "    if (rep+1) % 25 == 0:\n",
    "        print(rep+1)"
   ]
  },
  {
   "cell_type": "code",
   "execution_count": null,
   "metadata": {},
   "outputs": [],
   "source": [
    "from stochastic_methods import str_saga_COCO\n",
    "np.random.seed(0)\n",
    "\n",
    "K = 8\n",
    "L = L\n",
    "tol= 10**(1) \n",
    "\n",
    "print(\"SGD step-size = %s\" % step_size)\n",
    "visited_distances_str_saga_COCO8 = np.zeros((n_reps, n_steps+1)) \n",
    "for rep in range(n_reps):\n",
    "    rep_x_final, rep_visited_points = str_saga_COCO(K, L, tol, rho, n, x_init,  grad_i, store_every, step_size, n_steps, args=(A, b, lbda))\n",
    "    rep_visited_distances = [ np.linalg.norm(visited_point - x_min) for visited_point in rep_visited_points]\n",
    "    visited_distances_str_saga_COCO8[rep, :] = rep_visited_distances\n",
    "    if (rep+1) % 25 == 0:\n",
    "        print(rep+1)"
   ]
  },
  {
   "cell_type": "code",
   "execution_count": null,
   "metadata": {},
   "outputs": [],
   "source": [
    "from stochastic_methods import str_saga_COCO\n",
    "np.random.seed(0)\n",
    "\n",
    "K = 16\n",
    "L = L\n",
    "tol= 10**(1) \n",
    "\n",
    "print(\"SGD step-size = %s\" % step_size)\n",
    "visited_distances_str_saga_COCO16 = np.zeros((n_reps, n_steps+1)) \n",
    "for rep in range(n_reps):\n",
    "    rep_x_final, rep_visited_points = str_saga_COCO(K, L, tol, rho, n, x_init,  grad_i, store_every, step_size, n_steps, args=(A, b, lbda))\n",
    "    rep_visited_distances = [ np.linalg.norm(visited_point - x_min) for visited_point in rep_visited_points]\n",
    "    visited_distances_str_saga_COCO16[rep, :] = rep_visited_distances\n",
    "    if (rep+1) % 5 == 0:\n",
    "        print(rep+1)\n",
    "\n",
    "print(visited_distances_str_saga_COCO16)"
   ]
  },
  {
   "cell_type": "code",
   "execution_count": null,
   "metadata": {},
   "outputs": [],
   "source": [
    "def plot_epochs(visited_distances_mtxs, solvers):\n",
    "    \n",
    "    fig, ax = plt.subplots(figsize=(20, 12))\n",
    "    linestyles = ['-', '--', '--', '-.', ':', '--', '-', '--', '--', '-.', ':', '--', '-']\n",
    "    ls = 0\n",
    "    x = np.arange(n_steps+1)\n",
    "    for mtx in visited_distances_mtxs:\n",
    "        mean = np.mean(mtx, axis=0)\n",
    "        std = np.std(mtx, axis=0)/math.sqrt(n_reps)\n",
    "        \n",
    "        ax.errorbar(x, mean, xerr=0, yerr=std, linestyle=linestyles[ls])\n",
    "        ax.set_yscale('log')\n",
    "        plt.xlabel(\"Oracle Consultations\", fontsize=40)\n",
    "        plt.ylabel(\"$E[\\|x_k - x^*\\|_2]$ \", fontsize=40)\n",
    "        ls +=1\n",
    "    \n",
    "    plt.xticks(fontsize=40)\n",
    "    plt.yticks(fontsize=40)\n",
    "    plt.legend(solvers, fontsize=40)\n",
    "    plt.xlim([0, 800])\n",
    "    plt.ylim([5*10**(-3), 2])\n",
    "    plt.savefig('fourclass_strsaga.pdf', bbox_inches='tight')\n",
    "\n",
    "monitors = [visited_distances_str_saga, visited_distances_str_saga_COCO2, visited_distances_str_saga_COCO4, visited_distances_str_saga_COCO8]\n",
    "solvers = [\"STRSAGA\", \"STRSAGA$+$COCO$_2$\", \"STRSAGA$+$COCO$_4$\", \"STRSAGA$+$COCO$_8$\", \"STRSAGA$+$COCO$_16$\"]\n",
    "plot_epochs(monitors, solvers)"
   ]
  }
 ],
 "metadata": {
  "kernelspec": {
   "display_name": "Python 3",
   "language": "python",
   "name": "python3"
  },
  "language_info": {
   "codemirror_mode": {
    "name": "ipython",
    "version": 3
   },
   "file_extension": ".py",
   "mimetype": "text/x-python",
   "name": "python",
   "nbconvert_exporter": "python",
   "pygments_lexer": "ipython3",
   "version": "3.6.5"
  }
 },
 "nbformat": 4,
 "nbformat_minor": 2
}
